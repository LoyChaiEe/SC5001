{
 "cells": [
  {
   "cell_type": "code",
   "execution_count": 218,
   "metadata": {},
   "outputs": [],
   "source": [
    "import numpy as np\n",
    "import matplotlib.pyplot as plt\n",
    "import seaborn as sb\n",
    "import pandas as pd\n"
   ]
  },
  {
   "cell_type": "code",
   "execution_count": 219,
   "metadata": {},
   "outputs": [
    {
     "data": {
      "text/html": [
       "<div>\n",
       "<style scoped>\n",
       "    .dataframe tbody tr th:only-of-type {\n",
       "        vertical-align: middle;\n",
       "    }\n",
       "\n",
       "    .dataframe tbody tr th {\n",
       "        vertical-align: top;\n",
       "    }\n",
       "\n",
       "    .dataframe thead th {\n",
       "        text-align: right;\n",
       "    }\n",
       "</style>\n",
       "<table border=\"1\" class=\"dataframe\">\n",
       "  <thead>\n",
       "    <tr style=\"text-align: right;\">\n",
       "      <th></th>\n",
       "      <th>Suburb</th>\n",
       "      <th>Address</th>\n",
       "      <th>Rooms</th>\n",
       "      <th>Type</th>\n",
       "      <th>Price</th>\n",
       "      <th>Method</th>\n",
       "      <th>SellerG</th>\n",
       "      <th>Date</th>\n",
       "      <th>Distance</th>\n",
       "      <th>Postcode</th>\n",
       "      <th>...</th>\n",
       "      <th>Bathroom</th>\n",
       "      <th>Car</th>\n",
       "      <th>Landsize</th>\n",
       "      <th>BuildingArea</th>\n",
       "      <th>YearBuilt</th>\n",
       "      <th>CouncilArea</th>\n",
       "      <th>Lattitude</th>\n",
       "      <th>Longtitude</th>\n",
       "      <th>Regionname</th>\n",
       "      <th>Propertycount</th>\n",
       "    </tr>\n",
       "  </thead>\n",
       "  <tbody>\n",
       "    <tr>\n",
       "      <th>0</th>\n",
       "      <td>Abbotsford</td>\n",
       "      <td>85 Turner St</td>\n",
       "      <td>2</td>\n",
       "      <td>h</td>\n",
       "      <td>1480000.0</td>\n",
       "      <td>S</td>\n",
       "      <td>Biggin</td>\n",
       "      <td>3/12/2016</td>\n",
       "      <td>2.5</td>\n",
       "      <td>3067.0</td>\n",
       "      <td>...</td>\n",
       "      <td>1.0</td>\n",
       "      <td>1.0</td>\n",
       "      <td>202.0</td>\n",
       "      <td>NaN</td>\n",
       "      <td>NaN</td>\n",
       "      <td>Yarra</td>\n",
       "      <td>-37.7996</td>\n",
       "      <td>144.9984</td>\n",
       "      <td>Northern Metropolitan</td>\n",
       "      <td>4019.0</td>\n",
       "    </tr>\n",
       "    <tr>\n",
       "      <th>1</th>\n",
       "      <td>Abbotsford</td>\n",
       "      <td>25 Bloomburg St</td>\n",
       "      <td>2</td>\n",
       "      <td>h</td>\n",
       "      <td>1035000.0</td>\n",
       "      <td>S</td>\n",
       "      <td>Biggin</td>\n",
       "      <td>4/02/2016</td>\n",
       "      <td>2.5</td>\n",
       "      <td>3067.0</td>\n",
       "      <td>...</td>\n",
       "      <td>1.0</td>\n",
       "      <td>0.0</td>\n",
       "      <td>156.0</td>\n",
       "      <td>79.0</td>\n",
       "      <td>1900.0</td>\n",
       "      <td>Yarra</td>\n",
       "      <td>-37.8079</td>\n",
       "      <td>144.9934</td>\n",
       "      <td>Northern Metropolitan</td>\n",
       "      <td>4019.0</td>\n",
       "    </tr>\n",
       "    <tr>\n",
       "      <th>2</th>\n",
       "      <td>Abbotsford</td>\n",
       "      <td>5 Charles St</td>\n",
       "      <td>3</td>\n",
       "      <td>h</td>\n",
       "      <td>1465000.0</td>\n",
       "      <td>SP</td>\n",
       "      <td>Biggin</td>\n",
       "      <td>4/03/2017</td>\n",
       "      <td>2.5</td>\n",
       "      <td>3067.0</td>\n",
       "      <td>...</td>\n",
       "      <td>2.0</td>\n",
       "      <td>0.0</td>\n",
       "      <td>134.0</td>\n",
       "      <td>150.0</td>\n",
       "      <td>1900.0</td>\n",
       "      <td>Yarra</td>\n",
       "      <td>-37.8093</td>\n",
       "      <td>144.9944</td>\n",
       "      <td>Northern Metropolitan</td>\n",
       "      <td>4019.0</td>\n",
       "    </tr>\n",
       "    <tr>\n",
       "      <th>3</th>\n",
       "      <td>Abbotsford</td>\n",
       "      <td>40 Federation La</td>\n",
       "      <td>3</td>\n",
       "      <td>h</td>\n",
       "      <td>850000.0</td>\n",
       "      <td>PI</td>\n",
       "      <td>Biggin</td>\n",
       "      <td>4/03/2017</td>\n",
       "      <td>2.5</td>\n",
       "      <td>3067.0</td>\n",
       "      <td>...</td>\n",
       "      <td>2.0</td>\n",
       "      <td>1.0</td>\n",
       "      <td>94.0</td>\n",
       "      <td>NaN</td>\n",
       "      <td>NaN</td>\n",
       "      <td>Yarra</td>\n",
       "      <td>-37.7969</td>\n",
       "      <td>144.9969</td>\n",
       "      <td>Northern Metropolitan</td>\n",
       "      <td>4019.0</td>\n",
       "    </tr>\n",
       "    <tr>\n",
       "      <th>4</th>\n",
       "      <td>Abbotsford</td>\n",
       "      <td>55a Park St</td>\n",
       "      <td>4</td>\n",
       "      <td>h</td>\n",
       "      <td>1600000.0</td>\n",
       "      <td>VB</td>\n",
       "      <td>Nelson</td>\n",
       "      <td>4/06/2016</td>\n",
       "      <td>2.5</td>\n",
       "      <td>3067.0</td>\n",
       "      <td>...</td>\n",
       "      <td>1.0</td>\n",
       "      <td>2.0</td>\n",
       "      <td>120.0</td>\n",
       "      <td>142.0</td>\n",
       "      <td>2014.0</td>\n",
       "      <td>Yarra</td>\n",
       "      <td>-37.8072</td>\n",
       "      <td>144.9941</td>\n",
       "      <td>Northern Metropolitan</td>\n",
       "      <td>4019.0</td>\n",
       "    </tr>\n",
       "  </tbody>\n",
       "</table>\n",
       "<p>5 rows × 21 columns</p>\n",
       "</div>"
      ],
      "text/plain": [
       "       Suburb           Address  Rooms Type      Price Method SellerG  \\\n",
       "0  Abbotsford      85 Turner St      2    h  1480000.0      S  Biggin   \n",
       "1  Abbotsford   25 Bloomburg St      2    h  1035000.0      S  Biggin   \n",
       "2  Abbotsford      5 Charles St      3    h  1465000.0     SP  Biggin   \n",
       "3  Abbotsford  40 Federation La      3    h   850000.0     PI  Biggin   \n",
       "4  Abbotsford       55a Park St      4    h  1600000.0     VB  Nelson   \n",
       "\n",
       "        Date  Distance  Postcode  ...  Bathroom  Car  Landsize  BuildingArea  \\\n",
       "0  3/12/2016       2.5    3067.0  ...       1.0  1.0     202.0           NaN   \n",
       "1  4/02/2016       2.5    3067.0  ...       1.0  0.0     156.0          79.0   \n",
       "2  4/03/2017       2.5    3067.0  ...       2.0  0.0     134.0         150.0   \n",
       "3  4/03/2017       2.5    3067.0  ...       2.0  1.0      94.0           NaN   \n",
       "4  4/06/2016       2.5    3067.0  ...       1.0  2.0     120.0         142.0   \n",
       "\n",
       "   YearBuilt  CouncilArea Lattitude  Longtitude             Regionname  \\\n",
       "0        NaN        Yarra  -37.7996    144.9984  Northern Metropolitan   \n",
       "1     1900.0        Yarra  -37.8079    144.9934  Northern Metropolitan   \n",
       "2     1900.0        Yarra  -37.8093    144.9944  Northern Metropolitan   \n",
       "3        NaN        Yarra  -37.7969    144.9969  Northern Metropolitan   \n",
       "4     2014.0        Yarra  -37.8072    144.9941  Northern Metropolitan   \n",
       "\n",
       "  Propertycount  \n",
       "0        4019.0  \n",
       "1        4019.0  \n",
       "2        4019.0  \n",
       "3        4019.0  \n",
       "4        4019.0  \n",
       "\n",
       "[5 rows x 21 columns]"
      ]
     },
     "execution_count": 219,
     "metadata": {},
     "output_type": "execute_result"
    }
   ],
   "source": [
    "data =  pd.read_csv(\"melb_data.csv\")\n",
    "data.head()\n"
   ]
  },
  {
   "cell_type": "code",
   "execution_count": 220,
   "metadata": {},
   "outputs": [
    {
     "data": {
      "text/plain": [
       "36 Aberfeldie St    3\n",
       "2 Bruce St          3\n",
       "5 Charles St        3\n",
       "53 William St       3\n",
       "14 Arthur St        3\n",
       "                   ..\n",
       "16 Alleford St      1\n",
       "2/1073 Centre Rd    1\n",
       "14 Columbia St      1\n",
       "21 Hardy Ct         1\n",
       "6 Agnes St          1\n",
       "Name: Address, Length: 13378, dtype: int64"
      ]
     },
     "execution_count": 220,
     "metadata": {},
     "output_type": "execute_result"
    }
   ],
   "source": [
    "#remove redundant and irrelevant attributes:\n",
    "#Address has 13378 unique values, almost unique for each object. Description rather than category, also overlaps with latitude, longitude, regionname\n",
    "#method simply describes if property was put on auction or sold\n",
    "data['Address'].value_counts()"
   ]
  },
  {
   "cell_type": "code",
   "execution_count": 221,
   "metadata": {},
   "outputs": [
    {
     "data": {
      "text/plain": [
       "3073.0    359\n",
       "3020.0    306\n",
       "3121.0    292\n",
       "3040.0    290\n",
       "3046.0    284\n",
       "         ... \n",
       "3340.0      1\n",
       "3158.0      1\n",
       "3808.0      1\n",
       "3777.0      1\n",
       "3793.0      1\n",
       "Name: Postcode, Length: 198, dtype: int64"
      ]
     },
     "execution_count": 221,
     "metadata": {},
     "output_type": "execute_result"
    }
   ],
   "source": [
    "#remove redundant and irrelevant attributes:\n",
    "#postcode is redundant\n",
    "data['Postcode'].value_counts()"
   ]
  },
  {
   "cell_type": "code",
   "execution_count": 222,
   "metadata": {},
   "outputs": [],
   "source": [
    "#remove redundant and irrelevant attributes:\n",
    "#method simply describes how the data is obtained (sold, auction), is irrelevant\n",
    "data = data.drop(columns=['Address','Method','Postcode'])"
   ]
  },
  {
   "cell_type": "code",
   "execution_count": 223,
   "metadata": {},
   "outputs": [
    {
     "data": {
      "text/plain": [
       "0"
      ]
     },
     "execution_count": 223,
     "metadata": {},
     "output_type": "execute_result"
    }
   ],
   "source": [
    "#data cleaning: checking for duplicates\n",
    "data.duplicated().sum()"
   ]
  },
  {
   "cell_type": "code",
   "execution_count": 224,
   "metadata": {},
   "outputs": [
    {
     "data": {
      "text/plain": [
       "Suburb              0\n",
       "Rooms               0\n",
       "Type                0\n",
       "Price               0\n",
       "SellerG             0\n",
       "Date                0\n",
       "Distance            0\n",
       "Bedroom2            0\n",
       "Bathroom            0\n",
       "Car                62\n",
       "Landsize            0\n",
       "BuildingArea     6450\n",
       "YearBuilt        5375\n",
       "CouncilArea      1369\n",
       "Lattitude           0\n",
       "Longtitude          0\n",
       "Regionname          0\n",
       "Propertycount       0\n",
       "dtype: int64"
      ]
     },
     "execution_count": 224,
     "metadata": {},
     "output_type": "execute_result"
    }
   ],
   "source": [
    "#data cleaning: missing values\n",
    "data.isna().sum()\n",
    "#missing values for car can be removed as very few, buildingarea, yearbuilt, councilarea needs replacement"
   ]
  },
  {
   "cell_type": "code",
   "execution_count": 225,
   "metadata": {},
   "outputs": [],
   "source": [
    "#data cleaning: missing values\n",
    "data = data.dropna(subset=['Car'])\n",
    "data.reset_index(drop=True, inplace=True)\n",
    "data['BuildingArea'] = data['BuildingArea'].fillna(data['BuildingArea'].median())\n",
    "data['YearBuilt'] = data['YearBuilt'].fillna(data['YearBuilt'].median())\n",
    "data['CouncilArea'] = data['CouncilArea'].fillna(data['CouncilArea'].mode()[0])"
   ]
  },
  {
   "cell_type": "code",
   "execution_count": 226,
   "metadata": {},
   "outputs": [],
   "source": [
    "#data transformation: yearbuilt to age\n",
    "data['BuildingAge'] = 2018-data['YearBuilt']\n",
    "data = data.drop(columns=['YearBuilt'])"
   ]
  },
  {
   "cell_type": "code",
   "execution_count": 227,
   "metadata": {},
   "outputs": [
    {
     "name": "stderr",
     "output_type": "stream",
     "text": [
      "C:\\Users\\shiyi\\AppData\\Local\\Temp\\ipykernel_17008\\273771942.py:2: UserWarning: Parsing dates in DD/MM/YYYY format when dayfirst=False (the default) was specified. This may lead to inconsistently parsed dates! Specify a format to ensure consistent parsing.\n",
      "  data['Date'] = pd.to_datetime(data['Date'])\n"
     ]
    },
    {
     "data": {
      "text/html": [
       "<div>\n",
       "<style scoped>\n",
       "    .dataframe tbody tr th:only-of-type {\n",
       "        vertical-align: middle;\n",
       "    }\n",
       "\n",
       "    .dataframe tbody tr th {\n",
       "        vertical-align: top;\n",
       "    }\n",
       "\n",
       "    .dataframe thead th {\n",
       "        text-align: right;\n",
       "    }\n",
       "</style>\n",
       "<table border=\"1\" class=\"dataframe\">\n",
       "  <thead>\n",
       "    <tr style=\"text-align: right;\">\n",
       "      <th></th>\n",
       "      <th>Year_Sold</th>\n",
       "      <th>Month_Sold</th>\n",
       "      <th>Day_Sold</th>\n",
       "      <th>DayOfWeek_Sold</th>\n",
       "    </tr>\n",
       "  </thead>\n",
       "  <tbody>\n",
       "    <tr>\n",
       "      <th>0</th>\n",
       "      <td>2016</td>\n",
       "      <td>3</td>\n",
       "      <td>12</td>\n",
       "      <td>5</td>\n",
       "    </tr>\n",
       "    <tr>\n",
       "      <th>1</th>\n",
       "      <td>2016</td>\n",
       "      <td>4</td>\n",
       "      <td>2</td>\n",
       "      <td>5</td>\n",
       "    </tr>\n",
       "    <tr>\n",
       "      <th>2</th>\n",
       "      <td>2017</td>\n",
       "      <td>4</td>\n",
       "      <td>3</td>\n",
       "      <td>0</td>\n",
       "    </tr>\n",
       "    <tr>\n",
       "      <th>3</th>\n",
       "      <td>2017</td>\n",
       "      <td>4</td>\n",
       "      <td>3</td>\n",
       "      <td>0</td>\n",
       "    </tr>\n",
       "    <tr>\n",
       "      <th>4</th>\n",
       "      <td>2016</td>\n",
       "      <td>4</td>\n",
       "      <td>6</td>\n",
       "      <td>2</td>\n",
       "    </tr>\n",
       "  </tbody>\n",
       "</table>\n",
       "</div>"
      ],
      "text/plain": [
       "   Year_Sold  Month_Sold  Day_Sold  DayOfWeek_Sold\n",
       "0       2016           3        12               5\n",
       "1       2016           4         2               5\n",
       "2       2017           4         3               0\n",
       "3       2017           4         3               0\n",
       "4       2016           4         6               2"
      ]
     },
     "execution_count": 227,
     "metadata": {},
     "output_type": "execute_result"
    }
   ],
   "source": [
    "#creating features from date sold\n",
    "data['Date'] = pd.to_datetime(data['Date'])\n",
    "data['Year_Sold'] = data['Date'].dt.year\n",
    "data['Month_Sold'] = data['Date'].dt.month\n",
    "data['Day_Sold'] = data['Date'].dt.day\n",
    "data['DayOfWeek_Sold'] = data['Date'].dt.dayofweek\n",
    "data = data.drop(columns=['Date'])\n",
    "data[['Year_Sold', 'Month_Sold', 'Day_Sold', 'DayOfWeek_Sold']].head()"
   ]
  },
  {
   "cell_type": "code",
   "execution_count": 228,
   "metadata": {},
   "outputs": [
    {
     "name": "stdout",
     "output_type": "stream",
     "text": [
      "Reservoir         359\n",
      "Richmond          259\n",
      "Bentleigh East    249\n",
      "Preston           239\n",
      "Brunswick         221\n",
      "                 ... \n",
      "Sandhurst           1\n",
      "Bullengarook        1\n",
      "Montrose            1\n",
      "Croydon South       1\n",
      "Monbulk             1\n",
      "Name: Suburb, Length: 314, dtype: int64\n",
      "h    9389\n",
      "u    3015\n",
      "t    1114\n",
      "Name: Type, dtype: int64\n",
      "Nelson           1558\n",
      "Jellis           1303\n",
      "hockingstuart    1160\n",
      "Barry            1010\n",
      "Ray               701\n",
      "                 ... \n",
      "Prowse              1\n",
      "Luxe                1\n",
      "Zahn                1\n",
      "Homes               1\n",
      "Point               1\n",
      "Name: SellerG, Length: 268, dtype: int64\n",
      "Moreland             2470\n",
      "Boroondara           1160\n",
      "Moonee Valley         997\n",
      "Darebin               934\n",
      "Glen Eira             848\n",
      "Stonnington           719\n",
      "Maribyrnong           692\n",
      "Yarra                 647\n",
      "Port Phillip          628\n",
      "Banyule               594\n",
      "Bayside               489\n",
      "Melbourne             470\n",
      "Hobsons Bay           434\n",
      "Brimbank              424\n",
      "Monash                333\n",
      "Manningham            311\n",
      "Whitehorse            304\n",
      "Kingston              207\n",
      "Whittlesea            167\n",
      "Hume                  164\n",
      "Wyndham                86\n",
      "Knox                   80\n",
      "Maroondah              80\n",
      "Melton                 66\n",
      "Frankston              53\n",
      "Greater Dandenong      52\n",
      "Casey                  38\n",
      "Nillumbik              36\n",
      "Yarra Ranges           18\n",
      "Cardinia                8\n",
      "Macedon Ranges          7\n",
      "Unavailable             1\n",
      "Moorabool               1\n",
      "Name: CouncilArea, dtype: int64\n",
      "Southern Metropolitan         4668\n",
      "Northern Metropolitan         3869\n",
      "Western Metropolitan          2938\n",
      "Eastern Metropolitan          1468\n",
      "South-Eastern Metropolitan     450\n",
      "Eastern Victoria                53\n",
      "Northern Victoria               40\n",
      "Western Victoria                32\n",
      "Name: Regionname, dtype: int64\n"
     ]
    }
   ],
   "source": [
    "#encoding categorical attributes\n",
    "#suburb, SellerG, CouncilArea are nominal, have high cardinality - binary encoder used for memory concerns\n",
    "#one-hot encoder for other nominal features - better performance (https://www.diva-portal.org/smash/get/diva2:1259073/FULLTEXT01.pdf)\n",
    "categorical = ['Suburb','Type','SellerG','CouncilArea','Regionname']\n",
    "for x in categorical:\n",
    "    print(data[x].value_counts())"
   ]
  },
  {
   "cell_type": "code",
   "execution_count": 229,
   "metadata": {},
   "outputs": [],
   "source": [
    "#encoding categorical attributes\n",
    "from category_encoders.binary import BinaryEncoder\n",
    "encoder = BinaryEncoder(cols=['Suburb','SellerG','CouncilArea'], return_df=True)\n",
    "data_encoded = encoder.fit_transform(data)\n",
    "type_encoded = pd.get_dummies(data['Type'], prefix='Type')\n",
    "regionname_encoded = pd.get_dummies(data['Regionname'], prefix='Regionname')\n",
    "data_encoded = pd.concat([data_encoded, type_encoded, regionname_encoded], axis='columns').drop(['Type','Regionname'],axis=1)"
   ]
  },
  {
   "cell_type": "code",
   "execution_count": 230,
   "metadata": {},
   "outputs": [
    {
     "data": {
      "image/png": "[encoded data removed]",
      "text/plain": [
       "<Figure size 640x480 with 1 Axes>"
      ]
     },
     "metadata": {},
     "output_type": "display_data"
    }
   ],
   "source": [
    "#data transformation: standardization, not normalization, as data contains many outliers\n",
    "numeric_data = data[['Rooms','Distance','Bedroom2','Bathroom','Car','Landsize','BuildingArea','BuildingAge','Lattitude','Longtitude','Propertycount']]\n",
    "plt.yscale(\"log\")\n",
    "plt.xticks(rotation='vertical')\n",
    "numeric_data.boxplot()\n",
    "plt.show()"
   ]
  },
  {
   "cell_type": "code",
   "execution_count": 241,
   "metadata": {},
   "outputs": [],
   "source": [
    "#train test split before scaling as test set must not influence scaling\n",
    "from sklearn.model_selection import train_test_split\n",
    "train_set, test_set = train_test_split(data_encoded, test_size=0.2, random_state=42)\n",
    "train_set_y = train_set['Price']\n",
    "train_set_x = train_set.drop(columns=['Price'])\n",
    "test_set_y = test_set['Price']\n",
    "test_set_x = test_set.drop(columns=['Price'])"
   ]
  },
  {
   "cell_type": "code",
   "execution_count": 242,
   "metadata": {},
   "outputs": [],
   "source": [
    "from sklearn.preprocessing import StandardScaler\n",
    "scaler = StandardScaler()\n",
    "train_set_x_scaled = train_set_x.copy()\n",
    "test_set_x_scaled = test_set_x.copy()\n",
    "numeric_columns = ['Rooms','Distance','Bedroom2','Bathroom','Car','Landsize','BuildingArea','BuildingAge','Lattitude','Longtitude','Propertycount']\n",
    "train_set_x_scaled[numeric_columns] = scaler.fit_transform(train_set_x_scaled[numeric_columns])\n",
    "test_set_x_scaled[numeric_columns] = scaler.transform(test_set_x_scaled[numeric_columns])"
   ]
  },
  {
   "cell_type": "code",
   "execution_count": 240,
   "metadata": {},
   "outputs": [
    {
     "name": "stdout",
     "output_type": "stream",
     "text": [
      "[1.]\n",
      "[[-1.41209046e-08 -7.14076875e-08 -7.67964510e-08 -2.17475062e-08\n",
      "  -1.07841549e-08 -1.03523636e-08 -2.38078921e-08  4.58207076e-08\n",
      "  -1.09363302e-08  7.81788171e-07  1.00000000e+00 -1.93460507e-11\n",
      "  -2.30326894e-08 -2.89513517e-08 -5.23298886e-08 -7.14361704e-08\n",
      "  -6.42184708e-09 -2.35934017e-08 -7.66775159e-09  9.98433552e-08\n",
      "  -2.46055998e-07  7.44383077e-07  7.26192255e-07  3.69241298e-07\n",
      "   6.25345478e-08  3.97257350e-07 -1.20790839e-10 -1.10099822e-07\n",
      "  -3.32472261e-08  1.09383109e-07  2.40124575e-08  1.57582513e-08\n",
      "  -3.24099964e-07  3.24392768e-07 -6.23762453e-08  4.09887615e-07\n",
      "   5.04582263e-09  6.34901023e-08 -1.99237581e-07  8.22224642e-08\n",
      "   2.85488153e-07 -2.65517750e-08 -2.58936378e-07  1.05202653e-08\n",
      "  -3.63820735e-09 -1.21530831e-07 -3.22593970e-09 -1.19530932e-08\n",
      "   2.43737569e-07 -1.09937844e-07 -3.97191845e-09]]\n"
     ]
    }
   ],
   "source": [
    "#pca\n",
    "from sklearn.decomposition import PCA\n",
    "pca = PCA(n_components=0.95)\n",
    "train_set_x_reduced = pd.DataFrame(pca.fit_transform(train_set_x_scaled))\n",
    "test_set_x_reduced = pd.DataFrame(pca.transform(test_set_x_scaled))\n",
    "print(pca.explained_variance_ratio_)\n",
    "print(pca.components_)"
   ]
  }
 ],
 "metadata": {
  "kernelspec": {
   "display_name": "base",
   "language": "python",
   "name": "python3"
  },
  "language_info": {
   "codemirror_mode": {
    "name": "ipython",
    "version": 3
   },
   "file_extension": ".py",
   "mimetype": "text/x-python",
   "name": "python",
   "nbconvert_exporter": "python",
   "pygments_lexer": "ipython3",
   "version": "3.10.10"
  },
  "orig_nbformat": 4
 },
 "nbformat": 4,
 "nbformat_minor": 2
}
